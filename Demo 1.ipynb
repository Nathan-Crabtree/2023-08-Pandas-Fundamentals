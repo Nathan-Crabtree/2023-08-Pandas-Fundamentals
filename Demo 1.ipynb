{
 "cells": [
  {
   "cell_type": "code",
   "execution_count": 7,
   "id": "dfbeeead",
   "metadata": {},
   "outputs": [
    {
     "name": "stdout",
     "output_type": "stream",
     "text": [
      "[{'Column 1': 1, 'Column 2': 2}, {'Column 1': 3, 'Column 2': 4}, {'Column 1': 5, 'Column 2': 6}]\n"
     ]
    },
    {
     "data": {
      "text/plain": [
       "6"
      ]
     },
     "execution_count": 7,
     "metadata": {},
     "output_type": "execute_result"
    }
   ],
   "source": [
    "import json\n",
    "f = open(\"example-1.json\")\n",
    "data = json.load(f)\n",
    "print(data)\n",
    "data[2]['Column 2']"
   ]
  },
  {
   "cell_type": "code",
   "execution_count": 8,
   "id": "31427636",
   "metadata": {},
   "outputs": [
    {
     "name": "stdout",
     "output_type": "stream",
     "text": [
      "{'Branch': 'Branch A', 'Date': 'January 1', 'Amount': '500.00'}\n",
      "{'Branch': 'Branch B', 'Date': 'January 2', 'Amount': '250.00'}\n",
      "{'Branch': 'Branch A', 'Date': 'January 3', 'Amount': '300.00'}\n"
     ]
    }
   ],
   "source": [
    "import csv\n",
    "with open (\"example-1.csv\", mode=\"r\") as csv_file:\n",
    "    csv_reader = csv.DictReader(csv_file)\n",
    "    for row in csv_reader:\n",
    "        print(row)\n"
   ]
  },
  {
   "cell_type": "code",
   "execution_count": null,
   "id": "1573839d",
   "metadata": {},
   "outputs": [],
   "source": []
  }
 ],
 "metadata": {
  "kernelspec": {
   "display_name": "Python 3 (ipykernel)",
   "language": "python",
   "name": "python3"
  },
  "language_info": {
   "codemirror_mode": {
    "name": "ipython",
    "version": 3
   },
   "file_extension": ".py",
   "mimetype": "text/x-python",
   "name": "python",
   "nbconvert_exporter": "python",
   "pygments_lexer": "ipython3",
   "version": "3.9.7"
  }
 },
 "nbformat": 4,
 "nbformat_minor": 5
}
